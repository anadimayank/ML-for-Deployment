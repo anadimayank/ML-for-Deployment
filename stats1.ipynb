{
  "nbformat": 4,
  "nbformat_minor": 0,
  "metadata": {
    "colab": {
      "name": "stats1.ipynb",
      "provenance": [],
      "collapsed_sections": []
    },
    "kernelspec": {
      "name": "python3",
      "display_name": "Python 3"
    }
  },
  "cells": [
    {
      "cell_type": "markdown",
      "metadata": {
        "id": "r7xePcLyIkuj",
        "colab_type": "text"
      },
      "source": [
        "Problem Statement 1: \n",
        "You survey households in your area to find the average rent they are paying. Find the standard deviation from the following data: \n",
        "$1550, $1700, $900, $850, $1000, $950. \n"
      ]
    },
    {
      "cell_type": "code",
      "metadata": {
        "id": "YOpMk4y0ItL0",
        "colab_type": "code",
        "colab": {}
      },
      "source": [
        "AvgRent=[1550, 1700,  900, 850,  1000, 950]"
      ],
      "execution_count": 0,
      "outputs": []
    },
    {
      "cell_type": "code",
      "metadata": {
        "id": "Nd4j3A0MItcg",
        "colab_type": "code",
        "colab": {}
      },
      "source": [
        "import numpy as np\n",
        "arrAvgRent=np.array(AvgRent)"
      ],
      "execution_count": 0,
      "outputs": []
    },
    {
      "cell_type": "code",
      "metadata": {
        "id": "8aPwj4K6It7U",
        "colab_type": "code",
        "colab": {
          "base_uri": "https://localhost:8080/",
          "height": 34
        },
        "outputId": "6f26ff6e-2132-41ed-d0b4-530522d10848"
      },
      "source": [
        "arrAvgRent.std()"
      ],
      "execution_count": 4,
      "outputs": [
        {
          "output_type": "execute_result",
          "data": {
            "text/plain": [
              "335.92740617910624"
            ]
          },
          "metadata": {
            "tags": []
          },
          "execution_count": 4
        }
      ]
    },
    {
      "cell_type": "markdown",
      "metadata": {
        "id": "rcDzpiBYJ6Lq",
        "colab_type": "text"
      },
      "source": [
        "Problem Statement 2: \n",
        "Find the variance for the following set of data representing trees in California (heights in feet): \n",
        "3, 21, 98, 203, 17, 9 \n"
      ]
    },
    {
      "cell_type": "code",
      "metadata": {
        "id": "iGtq-mq_IuLr",
        "colab_type": "code",
        "colab": {}
      },
      "source": [
        "heights=[3, 21, 98, 203, 17, 9]"
      ],
      "execution_count": 0,
      "outputs": []
    },
    {
      "cell_type": "code",
      "metadata": {
        "id": "BBlSTucfIuIC",
        "colab_type": "code",
        "colab": {}
      },
      "source": [
        "import numpy as np\n",
        "arrHeights=np.array(heights)"
      ],
      "execution_count": 0,
      "outputs": []
    },
    {
      "cell_type": "code",
      "metadata": {
        "id": "Jq7h0zXfIt4m",
        "colab_type": "code",
        "colab": {
          "base_uri": "https://localhost:8080/",
          "height": 34
        },
        "outputId": "4ac8050c-09ea-49a1-9ca3-5046860a10f0"
      },
      "source": [
        "arrHeights.var()"
      ],
      "execution_count": 7,
      "outputs": [
        {
          "output_type": "execute_result",
          "data": {
            "text/plain": [
              "5183.25"
            ]
          },
          "metadata": {
            "tags": []
          },
          "execution_count": 7
        }
      ]
    },
    {
      "cell_type": "markdown",
      "metadata": {
        "id": "Ud7OlKHULxwR",
        "colab_type": "text"
      },
      "source": [
        "Problem Statement 3: \n",
        "In a class on 100 students, 80 students passed in all subjects, 10 failed in one subject, 7 failed in two subjects and 3 failed in three subjects. Find the probability distribution of the variable for number of subjects a student from the given class has failed in. \n"
      ]
    },
    {
      "cell_type": "code",
      "metadata": {
        "id": "ngCtzaCqItws",
        "colab_type": "code",
        "colab": {}
      },
      "source": [
        "Lets X be a random variable for number of subjects a student has failed in\n",
        "P(X=0)=80/100=0.8\n",
        "P(X=1)=10/100=0.1\n",
        "P(X=2)=7/100=0.07\n",
        "P(X=3)=3/100=0.03"
      ],
      "execution_count": 0,
      "outputs": []
    }
  ]
}