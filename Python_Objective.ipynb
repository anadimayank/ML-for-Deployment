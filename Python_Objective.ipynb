{
 "cells": [
  {
   "cell_type": "markdown",
   "metadata": {},
   "source": [
    "1\ta"
   ]
  },
  {
   "cell_type": "markdown",
   "metadata": {},
   "source": [
    "2\tb"
   ]
  },
  {
   "cell_type": "markdown",
   "metadata": {},
   "source": [
    "3\tb"
   ]
  },
  {
   "cell_type": "markdown",
   "metadata": {},
   "source": [
    "4\td"
   ]
  },
  {
   "cell_type": "markdown",
   "metadata": {},
   "source": [
    "5\td"
   ]
  },
  {
   "cell_type": "markdown",
   "metadata": {},
   "source": [
    "6\tc"
   ]
  },
  {
   "cell_type": "markdown",
   "metadata": {},
   "source": [
    "7\td"
   ]
  },
  {
   "cell_type": "markdown",
   "metadata": {},
   "source": [
    "8\tb"
   ]
  },
  {
   "cell_type": "markdown",
   "metadata": {},
   "source": [
    "9\tc"
   ]
  },
  {
   "cell_type": "markdown",
   "metadata": {},
   "source": [
    "10\ta"
   ]
  },
  {
   "cell_type": "markdown",
   "metadata": {},
   "source": [
    "11\tc"
   ]
  },
  {
   "cell_type": "markdown",
   "metadata": {},
   "source": [
    "12\ta"
   ]
  },
  {
   "cell_type": "markdown",
   "metadata": {},
   "source": [
    "13\tc"
   ]
  },
  {
   "cell_type": "markdown",
   "metadata": {},
   "source": [
    "14\tb"
   ]
  },
  {
   "cell_type": "markdown",
   "metadata": {},
   "source": [
    "15\tb"
   ]
  },
  {
   "cell_type": "markdown",
   "metadata": {},
   "source": [
    "16\tc"
   ]
  },
  {
   "cell_type": "markdown",
   "metadata": {},
   "source": [
    "17\tb"
   ]
  },
  {
   "cell_type": "markdown",
   "metadata": {},
   "source": [
    "18\td"
   ]
  },
  {
   "cell_type": "markdown",
   "metadata": {},
   "source": [
    "19\tb"
   ]
  },
  {
   "cell_type": "markdown",
   "metadata": {},
   "source": [
    "20\tc"
   ]
  },
  {
   "cell_type": "markdown",
   "metadata": {},
   "source": [
    "21\tb"
   ]
  },
  {
   "cell_type": "markdown",
   "metadata": {},
   "source": [
    "22\tb"
   ]
  },
  {
   "cell_type": "markdown",
   "metadata": {},
   "source": [
    "23\tb"
   ]
  },
  {
   "cell_type": "markdown",
   "metadata": {},
   "source": [
    "24\tc"
   ]
  },
  {
   "cell_type": "markdown",
   "metadata": {},
   "source": [
    "25\ta"
   ]
  },
  {
   "cell_type": "markdown",
   "metadata": {},
   "source": [
    "26\tc"
   ]
  },
  {
   "cell_type": "markdown",
   "metadata": {},
   "source": [
    "27\tb"
   ]
  },
  {
   "cell_type": "markdown",
   "metadata": {},
   "source": [
    "28\ta"
   ]
  },
  {
   "cell_type": "markdown",
   "metadata": {},
   "source": [
    "29\tb"
   ]
  },
  {
   "cell_type": "markdown",
   "metadata": {},
   "source": [
    "30\tc"
   ]
  },
  {
   "cell_type": "markdown",
   "metadata": {},
   "source": [
    "31\tb"
   ]
  },
  {
   "cell_type": "markdown",
   "metadata": {},
   "source": [
    "32\tb"
   ]
  },
  {
   "cell_type": "markdown",
   "metadata": {},
   "source": [
    "33\tb"
   ]
  },
  {
   "cell_type": "markdown",
   "metadata": {},
   "source": [
    "34\tb"
   ]
  },
  {
   "cell_type": "markdown",
   "metadata": {},
   "source": [
    "35\tc"
   ]
  },
  {
   "cell_type": "markdown",
   "metadata": {},
   "source": [
    "36\ta"
   ]
  },
  {
   "cell_type": "markdown",
   "metadata": {},
   "source": [
    "37\tc"
   ]
  },
  {
   "cell_type": "markdown",
   "metadata": {},
   "source": [
    "38\ta"
   ]
  },
  {
   "cell_type": "markdown",
   "metadata": {},
   "source": [
    "39\tb"
   ]
  },
  {
   "cell_type": "markdown",
   "metadata": {},
   "source": [
    "40\tc"
   ]
  },
  {
   "cell_type": "markdown",
   "metadata": {},
   "source": [
    "41\ta"
   ]
  },
  {
   "cell_type": "markdown",
   "metadata": {},
   "source": [
    "42\ta"
   ]
  },
  {
   "cell_type": "markdown",
   "metadata": {},
   "source": [
    "43\tc"
   ]
  },
  {
   "cell_type": "markdown",
   "metadata": {},
   "source": [
    "44\tb"
   ]
  },
  {
   "cell_type": "markdown",
   "metadata": {},
   "source": [
    "45\tc"
   ]
  },
  {
   "cell_type": "markdown",
   "metadata": {},
   "source": [
    "46\tb"
   ]
  },
  {
   "cell_type": "markdown",
   "metadata": {},
   "source": [
    "47\tb"
   ]
  },
  {
   "cell_type": "markdown",
   "metadata": {},
   "source": [
    "48\ta"
   ]
  },
  {
   "cell_type": "markdown",
   "metadata": {},
   "source": [
    "49\tc"
   ]
  },
  {
   "cell_type": "markdown",
   "metadata": {},
   "source": [
    "50\tc"
   ]
  },
  {
   "cell_type": "markdown",
   "metadata": {},
   "source": [
    "51\ta"
   ]
  },
  {
   "cell_type": "markdown",
   "metadata": {},
   "source": [
    "52\tb"
   ]
  },
  {
   "cell_type": "markdown",
   "metadata": {},
   "source": [
    "53\tc"
   ]
  },
  {
   "cell_type": "markdown",
   "metadata": {},
   "source": [
    "54\tc"
   ]
  },
  {
   "cell_type": "markdown",
   "metadata": {},
   "source": [
    "55\tc"
   ]
  },
  {
   "cell_type": "markdown",
   "metadata": {},
   "source": [
    "56\tc"
   ]
  },
  {
   "cell_type": "markdown",
   "metadata": {},
   "source": [
    "57\tb,c,e"
   ]
  },
  {
   "cell_type": "markdown",
   "metadata": {},
   "source": [
    "58\tanimals/feline"
   ]
  },
  {
   "cell_type": "markdown",
   "metadata": {},
   "source": [
    "59\ta"
   ]
  },
  {
   "cell_type": "markdown",
   "metadata": {},
   "source": [
    "60\tanimals/ursine/bears.gif"
   ]
  },
  {
   "cell_type": "markdown",
   "metadata": {},
   "source": [
    "61\tc"
   ]
  },
  {
   "cell_type": "markdown",
   "metadata": {},
   "source": [
    "62\t../ursine/bears.gif"
   ]
  },
  {
   "cell_type": "markdown",
   "metadata": {},
   "source": [
    "63\tc"
   ]
  },
  {
   "cell_type": "markdown",
   "metadata": {},
   "source": [
    "64\tb"
   ]
  },
  {
   "cell_type": "markdown",
   "metadata": {},
   "source": [
    "65\ta"
   ]
  },
  {
   "cell_type": "markdown",
   "metadata": {},
   "source": [
    "66\tc"
   ]
  },
  {
   "cell_type": "markdown",
   "metadata": {},
   "source": [
    "67\ta"
   ]
  },
  {
   "cell_type": "markdown",
   "metadata": {},
   "source": [
    "68\td"
   ]
  },
  {
   "cell_type": "markdown",
   "metadata": {},
   "source": [
    "69\tb"
   ]
  },
  {
   "cell_type": "markdown",
   "metadata": {},
   "source": [
    "70\ta"
   ]
  },
  {
   "cell_type": "markdown",
   "metadata": {},
   "source": [
    "71\tc"
   ]
  },
  {
   "cell_type": "markdown",
   "metadata": {},
   "source": [
    "72\tb"
   ]
  },
  {
   "cell_type": "markdown",
   "metadata": {},
   "source": [
    "73\ta"
   ]
  },
  {
   "cell_type": "markdown",
   "metadata": {},
   "source": [
    "74\td"
   ]
  },
  {
   "cell_type": "markdown",
   "metadata": {},
   "source": [
    "75\tb"
   ]
  },
  {
   "cell_type": "markdown",
   "metadata": {},
   "source": [
    "76\ta"
   ]
  },
  {
   "cell_type": "markdown",
   "metadata": {},
   "source": [
    "77\ta"
   ]
  },
  {
   "cell_type": "markdown",
   "metadata": {},
   "source": [
    "78\td"
   ]
  },
  {
   "cell_type": "markdown",
   "metadata": {},
   "source": [
    "79\tb"
   ]
  },
  {
   "cell_type": "markdown",
   "metadata": {},
   "source": [
    "80\td"
   ]
  },
  {
   "cell_type": "markdown",
   "metadata": {},
   "source": [
    "81\tc"
   ]
  },
  {
   "cell_type": "markdown",
   "metadata": {},
   "source": [
    "82\ta"
   ]
  },
  {
   "cell_type": "markdown",
   "metadata": {},
   "source": [
    "83\ta"
   ]
  },
  {
   "cell_type": "markdown",
   "metadata": {},
   "source": [
    "84\tc"
   ]
  },
  {
   "cell_type": "markdown",
   "metadata": {},
   "source": [
    "85\td"
   ]
  },
  {
   "cell_type": "markdown",
   "metadata": {},
   "source": [
    "86\ta"
   ]
  },
  {
   "cell_type": "markdown",
   "metadata": {},
   "source": [
    "87\tb"
   ]
  },
  {
   "cell_type": "markdown",
   "metadata": {},
   "source": [
    "88\td"
   ]
  },
  {
   "cell_type": "markdown",
   "metadata": {},
   "source": [
    "89\tc"
   ]
  },
  {
   "cell_type": "markdown",
   "metadata": {},
   "source": [
    "90\tc"
   ]
  },
  {
   "cell_type": "markdown",
   "metadata": {},
   "source": [
    "91\tb"
   ]
  },
  {
   "cell_type": "markdown",
   "metadata": {},
   "source": [
    "92\tc"
   ]
  },
  {
   "cell_type": "markdown",
   "metadata": {},
   "source": [
    "93\td"
   ]
  },
  {
   "cell_type": "markdown",
   "metadata": {},
   "source": [
    "94\td"
   ]
  },
  {
   "cell_type": "markdown",
   "metadata": {},
   "source": [
    "95\tb"
   ]
  },
  {
   "cell_type": "markdown",
   "metadata": {},
   "source": [
    "96\td"
   ]
  },
  {
   "cell_type": "markdown",
   "metadata": {},
   "source": [
    "97\tc"
   ]
  },
  {
   "cell_type": "markdown",
   "metadata": {},
   "source": [
    "98\tc"
   ]
  },
  {
   "cell_type": "markdown",
   "metadata": {},
   "source": [
    "99\tb"
   ]
  },
  {
   "cell_type": "markdown",
   "metadata": {},
   "source": [
    "100\ta"
   ]
  },
  {
   "cell_type": "markdown",
   "metadata": {},
   "source": [
    "101\tc"
   ]
  },
  {
   "cell_type": "markdown",
   "metadata": {},
   "source": [
    "102\ta"
   ]
  },
  {
   "cell_type": "markdown",
   "metadata": {},
   "source": [
    "103\ta"
   ]
  },
  {
   "cell_type": "markdown",
   "metadata": {},
   "source": [
    "104\td"
   ]
  },
  {
   "cell_type": "markdown",
   "metadata": {},
   "source": [
    "105\tb"
   ]
  },
  {
   "cell_type": "markdown",
   "metadata": {},
   "source": [
    "106\ta"
   ]
  },
  {
   "cell_type": "markdown",
   "metadata": {},
   "source": [
    "107\ta"
   ]
  },
  {
   "cell_type": "markdown",
   "metadata": {},
   "source": [
    "108\tb"
   ]
  },
  {
   "cell_type": "markdown",
   "metadata": {},
   "source": [
    "109\ta"
   ]
  },
  {
   "cell_type": "markdown",
   "metadata": {},
   "source": [
    "110\td"
   ]
  },
  {
   "cell_type": "markdown",
   "metadata": {},
   "source": [
    "111\tc"
   ]
  },
  {
   "cell_type": "markdown",
   "metadata": {},
   "source": [
    "112\tb"
   ]
  },
  {
   "cell_type": "markdown",
   "metadata": {},
   "source": [
    "113\ta"
   ]
  },
  {
   "cell_type": "markdown",
   "metadata": {},
   "source": [
    "114\tb"
   ]
  },
  {
   "cell_type": "markdown",
   "metadata": {},
   "source": [
    "115\tc"
   ]
  },
  {
   "cell_type": "markdown",
   "metadata": {},
   "source": [
    "116\tb"
   ]
  },
  {
   "cell_type": "markdown",
   "metadata": {},
   "source": [
    "117\tb"
   ]
  },
  {
   "cell_type": "markdown",
   "metadata": {},
   "source": [
    "118\tc"
   ]
  },
  {
   "cell_type": "markdown",
   "metadata": {},
   "source": [
    "119\ta"
   ]
  },
  {
   "cell_type": "markdown",
   "metadata": {},
   "source": [
    "120\tb"
   ]
  },
  {
   "cell_type": "markdown",
   "metadata": {},
   "source": [
    "121\tc"
   ]
  },
  {
   "cell_type": "markdown",
   "metadata": {},
   "source": [
    "122\td"
   ]
  },
  {
   "cell_type": "markdown",
   "metadata": {},
   "source": [
    "123\ta"
   ]
  },
  {
   "cell_type": "markdown",
   "metadata": {},
   "source": [
    "124\ta"
   ]
  },
  {
   "cell_type": "markdown",
   "metadata": {},
   "source": [
    "125\tc"
   ]
  },
  {
   "cell_type": "markdown",
   "metadata": {},
   "source": [
    "126\ta"
   ]
  },
  {
   "cell_type": "markdown",
   "metadata": {},
   "source": [
    "127\tb"
   ]
  },
  {
   "cell_type": "markdown",
   "metadata": {},
   "source": [
    "128\tc"
   ]
  },
  {
   "cell_type": "markdown",
   "metadata": {},
   "source": [
    "129\ta"
   ]
  },
  {
   "cell_type": "markdown",
   "metadata": {},
   "source": [
    "130\ta"
   ]
  },
  {
   "cell_type": "markdown",
   "metadata": {},
   "source": [
    "131\ta"
   ]
  },
  {
   "cell_type": "markdown",
   "metadata": {},
   "source": [
    "132\ta"
   ]
  },
  {
   "cell_type": "markdown",
   "metadata": {},
   "source": [
    "133\ta"
   ]
  },
  {
   "cell_type": "markdown",
   "metadata": {},
   "source": [
    "134\ta"
   ]
  },
  {
   "cell_type": "markdown",
   "metadata": {},
   "source": [
    "135\tc"
   ]
  },
  {
   "cell_type": "markdown",
   "metadata": {},
   "source": [
    "136\tb"
   ]
  },
  {
   "cell_type": "markdown",
   "metadata": {},
   "source": [
    "137\tb"
   ]
  },
  {
   "cell_type": "markdown",
   "metadata": {},
   "source": [
    "138\ta"
   ]
  },
  {
   "cell_type": "markdown",
   "metadata": {},
   "source": [
    "139\tb"
   ]
  },
  {
   "cell_type": "markdown",
   "metadata": {},
   "source": [
    "140\ta"
   ]
  },
  {
   "cell_type": "markdown",
   "metadata": {},
   "source": [
    "141\tb"
   ]
  },
  {
   "cell_type": "markdown",
   "metadata": {},
   "source": [
    "142\td"
   ]
  },
  {
   "cell_type": "markdown",
   "metadata": {},
   "source": [
    "143\td"
   ]
  },
  {
   "cell_type": "markdown",
   "metadata": {},
   "source": [
    "144\ta"
   ]
  },
  {
   "cell_type": "markdown",
   "metadata": {},
   "source": [
    "145\ta"
   ]
  },
  {
   "cell_type": "markdown",
   "metadata": {},
   "source": [
    "146\ta"
   ]
  },
  {
   "cell_type": "markdown",
   "metadata": {},
   "source": [
    "147\tb"
   ]
  },
  {
   "cell_type": "markdown",
   "metadata": {},
   "source": [
    "148\ta"
   ]
  },
  {
   "cell_type": "markdown",
   "metadata": {},
   "source": [
    "149\tb"
   ]
  },
  {
   "cell_type": "markdown",
   "metadata": {},
   "source": [
    "150\ta"
   ]
  }
 ],
 "metadata": {
  "kernelspec": {
   "display_name": "Python 3",
   "language": "python",
   "name": "python3"
  },
  "language_info": {
   "codemirror_mode": {
    "name": "ipython",
    "version": 3
   },
   "file_extension": ".py",
   "mimetype": "text/x-python",
   "name": "python",
   "nbconvert_exporter": "python",
   "pygments_lexer": "ipython3",
   "version": "3.7.1"
  }
 },
 "nbformat": 4,
 "nbformat_minor": 2
}
