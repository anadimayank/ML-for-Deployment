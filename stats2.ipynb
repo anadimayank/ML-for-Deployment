{
  "nbformat": 4,
  "nbformat_minor": 0,
  "metadata": {
    "colab": {
      "name": "stats2.ipynb",
      "provenance": [],
      "collapsed_sections": []
    },
    "kernelspec": {
      "name": "python3",
      "display_name": "Python 3"
    }
  },
  "cells": [
    {
      "cell_type": "markdown",
      "metadata": {
        "id": "lcvyyjT5dTGk",
        "colab_type": "text"
      },
      "source": [
        "Problem Statement 1: \n",
        "A test is conducted which is consisting of 20 MCQs (multiple choices questions) with every MCQ having its four options out of which only one is correct. Determine the probability that a person undertaking that test has answered exactly 5 questions wrong. \n"
      ]
    },
    {
      "cell_type": "code",
      "metadata": {
        "id": "BcjT9suXdU20",
        "colab_type": "code",
        "colab": {}
      },
      "source": [
        "The number of successes x=15\n",
        "The number of trials n=20\n",
        "The probability of Success p=1/4\n",
        "The probability of failure 1-p=3/4\n",
        "P(answered exactly 5 questions wrong)=nCx*p^x*(1-p)^(n-x)\n",
        "=0.00000342649"
      ],
      "execution_count": 0,
      "outputs": []
    },
    {
      "cell_type": "markdown",
      "metadata": {
        "id": "hyq2bzP0dWyZ",
        "colab_type": "text"
      },
      "source": [
        "Problem Statement 2: \n",
        "A die marked A to E is rolled 50 times. Find the probability of getting a “D” exactly 5 times. \n"
      ]
    },
    {
      "cell_type": "code",
      "metadata": {
        "id": "2rOWtx89dXbd",
        "colab_type": "code",
        "colab": {}
      },
      "source": [
        "The number of successes x=5\n",
        "The number of trials n=50\n",
        "The probability of Success p=1/5\n",
        "The probability of failure 1-p=4/5\n",
        "P(D exactly 5 times)=nCx*p^x*(1-p)^(n-x)\n",
        "=0.029"
      ],
      "execution_count": 0,
      "outputs": []
    },
    {
      "cell_type": "markdown",
      "metadata": {
        "id": "hXPjll4vdYRW",
        "colab_type": "text"
      },
      "source": [
        "Problem Statement 3: \n",
        "Two balls are drawn at random in succession without replacement from an urn containing 4 red balls and 6 black balls. \n",
        "Find the probabilities of all the possible outcomes. \n"
      ]
    },
    {
      "cell_type": "code",
      "metadata": {
        "id": "1t8eA6VIdx_L",
        "colab_type": "code",
        "colab": {}
      },
      "source": [
        "P(First Red ball and Second Red Ball) = (4/10)*(3/9) = (2/15)\n",
        "P(First Red ball and Second Black Ball) = (4/10)*(6/9) = (4/15)\n",
        "P(First Black ball and Second Red Ball) = (6/10)*(4/9) = (4/15)\n",
        "P(First Black ball and Second Black Ball) = (6/10)*(5/9) = (1/3)"
      ],
      "execution_count": 0,
      "outputs": []
    }
  ]
}