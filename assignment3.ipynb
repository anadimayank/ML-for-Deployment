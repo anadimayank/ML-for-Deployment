{
 "cells": [
  {
   "cell_type": "markdown",
   "metadata": {},
   "source": [
    "Task 1:\n",
    "1.\n",
    "Write a function to compute 5/0 and use try/except to catch the exceptions"
   ]
  },
  {
   "cell_type": "code",
   "execution_count": 1,
   "metadata": {},
   "outputs": [
    {
     "name": "stdout",
     "output_type": "stream",
     "text": [
      "Divide by zero exception occurred\n"
     ]
    }
   ],
   "source": [
    "def divByZero(n):\n",
    "    try:\n",
    "        return n/0\n",
    "    except:\n",
    "        print('Divide by zero exception occurred')\n",
    "divByZero(5)"
   ]
  },
  {
   "cell_type": "markdown",
   "metadata": {},
   "source": [
    "2.\n",
    "Implement a Python program to generate all sentences where subject is in [\"Americans\",\n",
    "\"Indians\"] and verb is in [\"Play\", \"watch\"] and the object is in [\"Baseball\",\"cricket\"].\n",
    "Hint: Subject,Verb and Object should be declared in the program as shown below.\n",
    "subjects=[\"Americans \",\"Indians\"]\n",
    "verbs=[\"play\",\"watch\"]\n",
    "objects=[\"Baseball\",\"Cricket\"]\n",
    "Output should come as below:\n",
    "Americans play Baseball.\n",
    "Americans play Cricket.\n",
    "Americans watch Baseball.\n",
    "Americans watch Cricket.\n",
    "Indians play Baseball.\n",
    "Indians play Cricket.\n",
    "Indians watch Baseball.\n",
    "Indians watch Cricket."
   ]
  },
  {
   "cell_type": "code",
   "execution_count": 3,
   "metadata": {},
   "outputs": [
    {
     "name": "stdout",
     "output_type": "stream",
     "text": [
      " Americans play Baseball.\n",
      " Americans play Cricket.\n",
      " Americans watch Baseball.\n",
      " Americans watch Cricket.\n",
      " Indians play Baseball.\n",
      " Indians play Cricket.\n",
      " Indians watch Baseball.\n",
      " Indians watch Cricket.\n"
     ]
    }
   ],
   "source": [
    "subjects=[\"Americans\",\"Indians\"]\n",
    "verbs=[\"play\",\"watch\"]\n",
    "objects=[\"Baseball\",\"Cricket\"]\n",
    "l=list([a,b,c] for a in subjects for b in verbs for c in objects)\n",
    "for s in l:\n",
    "    a=''\n",
    "    for i in s:\n",
    "        a=a+' '+i\n",
    "    print(a+'.')"
   ]
  },
  {
   "cell_type": "markdown",
   "metadata": {},
   "source": [
    "Task 2:\n",
    "1.\n",
    "Write a function so that the columns of the output matrix are powers of the input vector.\n",
    "The order of the powers is determined by the increasing boolean argument. Specifically, when\n",
    "increasing is False, the i-th output column is the input vector raised element-wise to the power\n",
    "of N - i - 1.\n",
    "HINT: Such a matrix with a geometric progression in each row is named for AlexandreTheophile Vandermonde.\n"
   ]
  },
  {
   "cell_type": "code",
   "execution_count": 4,
   "metadata": {},
   "outputs": [],
   "source": [
    "def powOfInput(**data):\n",
    "    ldash=data.get('iList')\n",
    "    if(not data.get('N') is None):\n",
    "        N=data.get('N') \n",
    "    else:\n",
    "        N=len(ldash)\n",
    "    if(not data.get('increasing') is None):\n",
    "        increasing=data.get('increasing') \n",
    "    else:\n",
    "        increasing=False\n",
    "    for a in ldash:\n",
    "        L=[]\n",
    "        if (not increasing):\n",
    "            for b in range(N):\n",
    "                L.append(a**(N-b-1))\n",
    "        else:\n",
    "            for b in range(N-1,-1,-1):\n",
    "                L.append(a**(N-b-1))\n",
    "        print(L)"
   ]
  },
  {
   "cell_type": "code",
   "execution_count": 5,
   "metadata": {},
   "outputs": [
    {
     "name": "stdout",
     "output_type": "stream",
     "text": [
      "[1, 1, 1, 1]\n",
      "[8, 4, 2, 1]\n",
      "[27, 9, 3, 1]\n"
     ]
    }
   ],
   "source": [
    "l=[1,2,3]\n",
    "powOfInput(iList=l,N=4)"
   ]
  },
  {
   "cell_type": "code",
   "execution_count": 6,
   "metadata": {},
   "outputs": [
    {
     "name": "stdout",
     "output_type": "stream",
     "text": [
      "[1, 1, 1, 1]\n",
      "[1, 2, 4, 8]\n",
      "[1, 3, 9, 27]\n"
     ]
    }
   ],
   "source": [
    "l=[1,2,3]\n",
    "powOfInput(iList=l,N=4,increasing=True)"
   ]
  },
  {
   "cell_type": "code",
   "execution_count": 7,
   "metadata": {},
   "outputs": [
    {
     "name": "stdout",
     "output_type": "stream",
     "text": [
      "[1, 1, 1]\n",
      "[1, 2, 4]\n",
      "[1, 3, 9]\n"
     ]
    }
   ],
   "source": [
    "l=[1,2,3]\n",
    "powOfInput(iList=l,increasing=True)"
   ]
  },
  {
   "cell_type": "code",
   "execution_count": null,
   "metadata": {},
   "outputs": [],
   "source": []
  }
 ],
 "metadata": {
  "kernelspec": {
   "display_name": "Python 3",
   "language": "python",
   "name": "python3"
  },
  "language_info": {
   "codemirror_mode": {
    "name": "ipython",
    "version": 3
   },
   "file_extension": ".py",
   "mimetype": "text/x-python",
   "name": "python",
   "nbconvert_exporter": "python",
   "pygments_lexer": "ipython3",
   "version": "3.7.1"
  }
 },
 "nbformat": 4,
 "nbformat_minor": 2
}
